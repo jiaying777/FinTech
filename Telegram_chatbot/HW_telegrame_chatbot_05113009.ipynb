{
 "cells": [
  {
   "cell_type": "markdown",
   "metadata": {},
   "source": [
    "## @dadei_bot"
   ]
  },
  {
   "cell_type": "code",
   "execution_count": 1,
   "metadata": {},
   "outputs": [],
   "source": [
    "import requests\n",
    "import configparser\n",
    "import telegram\n",
    "from telegram import InlineKeyboardMarkup, InlineKeyboardButton\n",
    "from flask import Flask, request\n",
    "from telegram.ext import Dispatcher, MessageHandler, Filters, CommandHandler, CallbackQueryHandler\n",
    "from fugle_realtime import intraday"
   ]
  },
  {
   "cell_type": "code",
   "execution_count": 2,
   "metadata": {},
   "outputs": [
    {
     "data": {
      "text/plain": [
       "['config.ini']"
      ]
     },
     "execution_count": 2,
     "metadata": {},
     "output_type": "execute_result"
    }
   ],
   "source": [
    "config = configparser.ConfigParser()\n",
    "config.read('config.ini')"
   ]
  },
  {
   "cell_type": "code",
   "execution_count": 3,
   "metadata": {},
   "outputs": [],
   "source": [
    "access_token = config['TELEGRAM']['ACCESS_TOKEN']\n",
    "webhook_url = config['TELEGRAM']['WEBHOOK_URL']\n",
    "api_token = config['TELEGRAM']['api_token']"
   ]
  },
  {
   "cell_type": "code",
   "execution_count": 4,
   "metadata": {},
   "outputs": [
    {
     "data": {
      "text/plain": [
       "'{\"ok\":true,\"result\":true,\"description\":\"Webhook was deleted\"}'"
      ]
     },
     "execution_count": 4,
     "metadata": {},
     "output_type": "execute_result"
    }
   ],
   "source": [
    "requests.post('https://api.telegram.org/bot'+'1072022422:AAFwoUUbuTNN3LeHI2tgLvOCPuxgpJHTFTk'\n",
    "+'/deleteWebhook').text"
   ]
  },
  {
   "cell_type": "code",
   "execution_count": 5,
   "metadata": {},
   "outputs": [
    {
     "data": {
      "text/plain": [
       "'{\"ok\":true,\"result\":true,\"description\":\"Webhook was set\"}'"
      ]
     },
     "execution_count": 5,
     "metadata": {},
     "output_type": "execute_result"
    }
   ],
   "source": [
    "requests.post('https://api.telegram.org/bot'+access_token+'/setWebhook?url='+webhook_url+'/hook').text"
   ]
  },
  {
   "cell_type": "code",
   "execution_count": 6,
   "metadata": {
    "scrolled": true
   },
   "outputs": [
    {
     "name": "stdout",
     "output_type": "stream",
     "text": [
      " * Serving Flask app \"__main__\" (lazy loading)\n",
      " * Environment: production\n",
      "\u001b[31m   WARNING: This is a development server. Do not use it in a production deployment.\u001b[0m\n",
      "\u001b[2m   Use a production WSGI server instead.\u001b[0m\n",
      " * Debug mode: off\n"
     ]
    },
    {
     "name": "stderr",
     "output_type": "stream",
     "text": [
      "/Library/Frameworks/Python.framework/Versions/3.7/lib/python3.7/site-packages/IPython/core/interactiveshell.py:3331: TelegramDeprecationWarning: Old Handler API is deprecated - see https://git.io/fxJuV for details\n",
      "  exec(code_obj, self.user_global_ns, self.user_ns)\n",
      " * Running on http://127.0.0.1:5000/ (Press CTRL+C to quit)\n",
      "127.0.0.1 - - [09/Apr/2020 01:25:58] \"\u001b[37mPOST /hook HTTP/1.1\u001b[0m\" 200 -\n",
      "127.0.0.1 - - [09/Apr/2020 01:26:05] \"\u001b[37mPOST /hook HTTP/1.1\u001b[0m\" 200 -\n",
      "127.0.0.1 - - [09/Apr/2020 01:26:09] \"\u001b[37mPOST /hook HTTP/1.1\u001b[0m\" 200 -\n",
      "127.0.0.1 - - [09/Apr/2020 01:26:13] \"\u001b[37mPOST /hook HTTP/1.1\u001b[0m\" 200 -\n",
      "127.0.0.1 - - [09/Apr/2020 01:26:17] \"\u001b[37mPOST /hook HTTP/1.1\u001b[0m\" 200 -\n",
      "127.0.0.1 - - [09/Apr/2020 01:27:20] \"\u001b[37mPOST /hook HTTP/1.1\u001b[0m\" 200 -\n",
      "127.0.0.1 - - [09/Apr/2020 01:27:28] \"\u001b[37mPOST /hook HTTP/1.1\u001b[0m\" 200 -\n",
      "127.0.0.1 - - [09/Apr/2020 01:28:25] \"\u001b[37mPOST /hook HTTP/1.1\u001b[0m\" 200 -\n",
      "127.0.0.1 - - [09/Apr/2020 01:28:31] \"\u001b[37mPOST /hook HTTP/1.1\u001b[0m\" 200 -\n",
      "127.0.0.1 - - [09/Apr/2020 01:28:34] \"\u001b[37mPOST /hook HTTP/1.1\u001b[0m\" 200 -\n",
      "127.0.0.1 - - [09/Apr/2020 01:28:37] \"\u001b[37mPOST /hook HTTP/1.1\u001b[0m\" 200 -\n",
      "127.0.0.1 - - [09/Apr/2020 01:28:41] \"\u001b[37mPOST /hook HTTP/1.1\u001b[0m\" 200 -\n",
      "127.0.0.1 - - [09/Apr/2020 01:28:45] \"\u001b[37mPOST /hook HTTP/1.1\u001b[0m\" 200 -\n",
      "127.0.0.1 - - [09/Apr/2020 01:28:50] \"\u001b[37mPOST /hook HTTP/1.1\u001b[0m\" 200 -\n",
      "127.0.0.1 - - [09/Apr/2020 01:28:55] \"\u001b[37mPOST /hook HTTP/1.1\u001b[0m\" 200 -\n",
      "127.0.0.1 - - [09/Apr/2020 01:28:58] \"\u001b[37mPOST /hook HTTP/1.1\u001b[0m\" 200 -\n",
      "127.0.0.1 - - [09/Apr/2020 01:29:01] \"\u001b[37mPOST /hook HTTP/1.1\u001b[0m\" 200 -\n",
      "127.0.0.1 - - [09/Apr/2020 01:29:08] \"\u001b[37mPOST /hook HTTP/1.1\u001b[0m\" 200 -\n",
      "127.0.0.1 - - [09/Apr/2020 01:29:12] \"\u001b[37mPOST /hook HTTP/1.1\u001b[0m\" 200 -\n",
      "127.0.0.1 - - [09/Apr/2020 01:29:15] \"\u001b[37mPOST /hook HTTP/1.1\u001b[0m\" 200 -\n",
      "127.0.0.1 - - [09/Apr/2020 01:30:08] \"\u001b[37mPOST /hook HTTP/1.1\u001b[0m\" 200 -\n",
      "127.0.0.1 - - [09/Apr/2020 01:30:11] \"\u001b[37mPOST /hook HTTP/1.1\u001b[0m\" 200 -\n",
      "127.0.0.1 - - [09/Apr/2020 01:30:14] \"\u001b[37mPOST /hook HTTP/1.1\u001b[0m\" 200 -\n",
      "127.0.0.1 - - [09/Apr/2020 01:33:16] \"\u001b[37mPOST /hook HTTP/1.1\u001b[0m\" 200 -\n",
      "127.0.0.1 - - [09/Apr/2020 01:35:12] \"\u001b[37mPOST /hook HTTP/1.1\u001b[0m\" 200 -\n",
      "127.0.0.1 - - [09/Apr/2020 01:38:28] \"\u001b[37mPOST /hook HTTP/1.1\u001b[0m\" 200 -\n",
      "127.0.0.1 - - [09/Apr/2020 01:38:47] \"\u001b[37mPOST /hook HTTP/1.1\u001b[0m\" 200 -\n",
      "127.0.0.1 - - [09/Apr/2020 01:38:56] \"\u001b[37mPOST /hook HTTP/1.1\u001b[0m\" 200 -\n",
      "127.0.0.1 - - [09/Apr/2020 01:39:00] \"\u001b[37mPOST /hook HTTP/1.1\u001b[0m\" 200 -\n",
      "127.0.0.1 - - [09/Apr/2020 01:39:02] \"\u001b[37mPOST /hook HTTP/1.1\u001b[0m\" 200 -\n",
      "127.0.0.1 - - [09/Apr/2020 01:39:13] \"\u001b[37mPOST /hook HTTP/1.1\u001b[0m\" 200 -\n",
      "127.0.0.1 - - [09/Apr/2020 01:39:18] \"\u001b[37mPOST /hook HTTP/1.1\u001b[0m\" 200 -\n",
      "127.0.0.1 - - [09/Apr/2020 01:39:21] \"\u001b[37mPOST /hook HTTP/1.1\u001b[0m\" 200 -\n",
      "127.0.0.1 - - [09/Apr/2020 01:39:25] \"\u001b[37mPOST /hook HTTP/1.1\u001b[0m\" 200 -\n",
      "127.0.0.1 - - [09/Apr/2020 01:39:28] \"\u001b[37mPOST /hook HTTP/1.1\u001b[0m\" 200 -\n",
      "127.0.0.1 - - [09/Apr/2020 01:39:35] \"\u001b[37mPOST /hook HTTP/1.1\u001b[0m\" 200 -\n",
      "127.0.0.1 - - [09/Apr/2020 01:39:47] \"\u001b[37mPOST /hook HTTP/1.1\u001b[0m\" 200 -\n",
      "127.0.0.1 - - [09/Apr/2020 01:39:52] \"\u001b[37mPOST /hook HTTP/1.1\u001b[0m\" 200 -\n",
      "127.0.0.1 - - [09/Apr/2020 01:40:01] \"\u001b[37mPOST /hook HTTP/1.1\u001b[0m\" 200 -\n",
      "127.0.0.1 - - [09/Apr/2020 01:40:07] \"\u001b[37mPOST /hook HTTP/1.1\u001b[0m\" 200 -\n",
      "127.0.0.1 - - [09/Apr/2020 01:40:19] \"\u001b[37mPOST /hook HTTP/1.1\u001b[0m\" 200 -\n",
      "127.0.0.1 - - [09/Apr/2020 01:41:02] \"\u001b[37mPOST /hook HTTP/1.1\u001b[0m\" 200 -\n",
      "127.0.0.1 - - [09/Apr/2020 01:41:15] \"\u001b[37mPOST /hook HTTP/1.1\u001b[0m\" 200 -\n",
      "127.0.0.1 - - [09/Apr/2020 01:41:24] \"\u001b[37mPOST /hook HTTP/1.1\u001b[0m\" 200 -\n",
      "127.0.0.1 - - [09/Apr/2020 01:41:30] \"\u001b[37mPOST /hook HTTP/1.1\u001b[0m\" 200 -\n",
      "127.0.0.1 - - [09/Apr/2020 01:41:36] \"\u001b[37mPOST /hook HTTP/1.1\u001b[0m\" 200 -\n",
      "127.0.0.1 - - [09/Apr/2020 01:41:41] \"\u001b[37mPOST /hook HTTP/1.1\u001b[0m\" 200 -\n",
      "127.0.0.1 - - [09/Apr/2020 01:41:43] \"\u001b[37mPOST /hook HTTP/1.1\u001b[0m\" 200 -\n"
     ]
    }
   ],
   "source": [
    "# Initial Flask app\n",
    "app = Flask(__name__)\n",
    "\n",
    "# Initial bot by Telegram access token\n",
    "bot = telegram.Bot(token=config['TELEGRAM']['ACCESS_TOKEN'])\n",
    "\n",
    "@app.route('/hook', methods=['POST'])    \n",
    "def webhook_handler():\n",
    "    if request.method == \"POST\":\n",
    "        update = telegram.Update.de_json(request.get_json(force=True), bot)\n",
    "\n",
    "        # Update dispatcher process that handler to process this message\n",
    "        dispatcher.process_update(update)\n",
    "    return 'ok'\n",
    "    \n",
    "def start(bot, update):\n",
    "    bot.send_message(update.message.chat.id, '{} 您好，請輸入欲查詢的股票代碼：'.format(update.message.from_user.first_name))\n",
    "    \n",
    "def info(bot, update):\n",
    "    global num\n",
    "    num = update.message.text\n",
    "    data = intraday.meta(apiToken=api_token , symbolId=num ,output='raw')\n",
    "    \n",
    "    if 'error' in data:\n",
    "        update.message.reply_text('請輸入正確的股票代碼：')\n",
    "        return\n",
    "    if 'industryZhTw' in data:\n",
    "        text = ('產業別：'+data['industryZhTw']+'\\n'+'交易幣別：'+data['currency']+'\\n'+'股票中文簡稱：'+data['nameZhTw']+'\\n'+'開盤參考價：'+ str(data['priceReference'])+'\\n'+\n",
    "            '漲停價：'+str(data[ 'priceHighLimit'])+'\\n'+'跌停價：'+str(data[\"priceLowLimit\"])+'\\n'+'股票類別：'+data['typeZhTw'])\n",
    "    else:\n",
    "        text = ('交易幣別：'+data['currency']+'\\n'+'股票中文簡稱：'+data['nameZhTw']+'\\n'+'開盤參考價：'+ str(data['priceReference'])+'\\n'+\n",
    "            '漲停價：'+str(data[ 'priceHighLimit'])+'\\n'+'跌停價：'+str(data[\"priceLowLimit\"])+'\\n'+'股票類別：'+data['typeZhTw'])\n",
    "    global reply_markup\n",
    "    reply_markup = InlineKeyboardMarkup([[\n",
    "        InlineKeyboardButton('即時股價', callback_data='now_price'),\n",
    "        InlineKeyboardButton('最新一筆交易', callback_data='trade'),InlineKeyboardButton('最佳五檔', callback_data='five')]])\n",
    "    \n",
    "    update.message.reply_text(text)\n",
    "\n",
    "    if update.message:\n",
    "         bot.send_message(update.message.chat.id, '{} 您好，有什麼我可以幫忙的？'.format(update.message.from_user.first_name) \n",
    "                     , reply_to_message_id = update.message.message_id,reply_markup = reply_markup)\n",
    "            \n",
    "            \n",
    "\n",
    "\n",
    "def getClickButtonData(bot, update):\n",
    "\n",
    "    if update.callback_query.data == 'now_price':\n",
    "        df1 = intraday.chart(apiToken=api_token , symbolId=num)\n",
    "        df1 = df1.iloc[-1]\n",
    "        text = ('●股票代碼：'+num+'\\n'+'此分鐘開盤價：'+str(df1[\"open\"])+'\\n'+'此分鐘最高價：'+str(df1['high'])+'\\n'+'此分鐘最低價：'+str(df1['low'])+'\\n'+'此分鐘收盤價：'\n",
    "                +str(df1['close'])+'\\n'+'此分鐘交易張數：'+str(df1['unit'])+'\\n'+'此分鐘交易量：'+str(df1['volume']))\n",
    "       \n",
    "        update.callback_query.message.reply_text(text,reply_markup = reply_markup)\n",
    "       \n",
    "\n",
    "        \n",
    "\n",
    "    if update.callback_query.data == 'trade':\n",
    "        df2 = intraday.quote(apiToken=api_token,symbolId=num,output='raw')\n",
    "        df3 = df2['trade']\n",
    "        text = ('●'+num+'最新一筆交易：'+'\\n'+'成交價：'+str(df3['price'])+'\\n'+'成交張數：'+str(df3['unit'])+'\\n'+'成交量：'+str(df3['volume'])+'\\n'+\n",
    "                                                                                                     '成交序號：'+str(df3['serial']))\n",
    "        update.callback_query.message.reply_text(text,reply_markup = reply_markup)\n",
    "        \n",
    "    if update.callback_query.data == 'five':\n",
    "        df4 = intraday.quote(apiToken=api_token,symbolId=num,output='raw')\n",
    "        df4 = df4['order']\n",
    "        text1 = ('●'+num+'最佳五檔買價：'+'\\n'\n",
    "                +'價格：'+str(df4['bestBids'][0]['price'])+'\\n'+'張數：'+str(df4['bestBids'][0]['unit'])+'\\n'+'交易量：'+str(df4['bestBids'][0]['volume'])+'\\n'+'\\n'\n",
    "                +'價格：'+str(df4['bestBids'][1]['price'])+'\\n'+'張數：'+str(df4['bestBids'][1]['unit'])+'\\n'+'交易量：'+str(df4['bestBids'][1]['volume'])+'\\n'+'\\n'\n",
    "                +'價格：'+str(df4['bestBids'][2]['price'])+'\\n'+'張數：'+str(df4['bestBids'][2]['unit'])+'\\n'+'交易量：'+str(df4['bestBids'][2]['volume'])+'\\n'+'\\n'\n",
    "                +'價格：'+str(df4['bestBids'][3]['price'])+'\\n'+'張數：'+str(df4['bestBids'][3]['unit'])+'\\n'+'交易量：'+str(df4['bestBids'][3]['volume'])+'\\n'+'\\n'\n",
    "                +'價格：'+str(df4['bestBids'][4]['price'])+'\\n'+'張數：'+str(df4['bestBids'][4]['unit'])+'\\n'+'交易量：'+str(df4['bestBids'][4]['volume']))\n",
    "        text2 = ('●'+num+'最佳五檔賣價：'+'\\n'\n",
    "                +'價格：'+str(df4['bestAsks'][0]['price'])+'\\n'+'張數：'+str(df4['bestAsks'][0]['unit'])+'\\n'+'交易量：'+str(df4['bestAsks'][0]['volume'])+'\\n'+'\\n'\n",
    "                +'價格：'+str(df4['bestAsks'][1]['price'])+'\\n'+'張數：'+str(df4['bestAsks'][1]['unit'])+'\\n'+'交易量：'+str(df4['bestAsks'][1]['volume'])+'\\n'+'\\n'\n",
    "                +'價格：'+str(df4['bestAsks'][2]['price'])+'\\n'+'張數：'+str(df4['bestAsks'][2]['unit'])+'\\n'+'交易量：'+str(df4['bestAsks'][2]['volume'])+'\\n'+'\\n'\n",
    "                +'價格：'+str(df4['bestAsks'][3]['price'])+'\\n'+'張數：'+str(df4['bestAsks'][3]['unit'])+'\\n'+'交易量：'+str(df4['bestAsks'][3]['volume'])+'\\n'+'\\n'\n",
    "                +'價格：'+str(df4['bestAsks'][4]['price'])+'\\n'+'張數：'+str(df4['bestAsks'][4]['unit'])+'\\n'+'交易量：'+str(df4['bestAsks'][4]['volume']))\n",
    "  \n",
    "        update.callback_query.message.reply_text(text1)\n",
    "        update.callback_query.message.reply_text(text2,reply_markup = reply_markup)\n",
    "\n",
    "\n",
    "\n",
    "\n",
    "dispatcher = Dispatcher(bot, None)\n",
    "dispatcher.add_handler(CommandHandler('start', start))\n",
    "dispatcher.add_handler(MessageHandler(Filters.text, info))\n",
    "dispatcher.add_handler(CallbackQueryHandler(getClickButtonData))\n",
    "\n",
    "if __name__ == '__main__':\n",
    "    app.run()"
   ]
  },
  {
   "cell_type": "code",
   "execution_count": null,
   "metadata": {},
   "outputs": [],
   "source": []
  }
 ],
 "metadata": {
  "kernelspec": {
   "display_name": "Python 3",
   "language": "python",
   "name": "python3"
  },
  "language_info": {
   "codemirror_mode": {
    "name": "ipython",
    "version": 3
   },
   "file_extension": ".py",
   "mimetype": "text/x-python",
   "name": "python",
   "nbconvert_exporter": "python",
   "pygments_lexer": "ipython3",
   "version": "3.7.4"
  }
 },
 "nbformat": 4,
 "nbformat_minor": 4
}
